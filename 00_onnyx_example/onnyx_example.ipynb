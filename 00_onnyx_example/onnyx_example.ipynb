{
  "cells": [
    {
      "cell_type": "code",
      "execution_count": null,
      "metadata": {
        "colab": {
          "base_uri": "https://localhost:8080/"
        },
        "id": "oQDHHQ4B7Mg4",
        "outputId": "0def8e6b-d8bb-425b-b322-6c74322f1599"
      },
      "outputs": [
        {
          "name": "stdout",
          "output_type": "stream",
          "text": [
            "Requirement already satisfied: onnx in /usr/local/lib/python3.10/dist-packages (1.17.0)\n",
            "Requirement already satisfied: numpy>=1.20 in /usr/local/lib/python3.10/dist-packages (from onnx) (1.26.4)\n",
            "Requirement already satisfied: protobuf>=3.20.2 in /usr/local/lib/python3.10/dist-packages (from onnx) (4.25.5)\n",
            "Requirement already satisfied: onnxruntime in /usr/local/lib/python3.10/dist-packages (1.20.1)\n",
            "Requirement already satisfied: coloredlogs in /usr/local/lib/python3.10/dist-packages (from onnxruntime) (15.0.1)\n",
            "Requirement already satisfied: flatbuffers in /usr/local/lib/python3.10/dist-packages (from onnxruntime) (24.3.25)\n",
            "Requirement already satisfied: numpy>=1.21.6 in /usr/local/lib/python3.10/dist-packages (from onnxruntime) (1.26.4)\n",
            "Requirement already satisfied: packaging in /usr/local/lib/python3.10/dist-packages (from onnxruntime) (24.2)\n",
            "Requirement already satisfied: protobuf in /usr/local/lib/python3.10/dist-packages (from onnxruntime) (4.25.5)\n",
            "Requirement already satisfied: sympy in /usr/local/lib/python3.10/dist-packages (from onnxruntime) (1.13.1)\n",
            "Requirement already satisfied: humanfriendly>=9.1 in /usr/local/lib/python3.10/dist-packages (from coloredlogs->onnxruntime) (10.0)\n",
            "Requirement already satisfied: mpmath<1.4,>=1.1.0 in /usr/local/lib/python3.10/dist-packages (from sympy->onnxruntime) (1.3.0)\n"
          ]
        }
      ],
      "source": [
        "!pip install onnx\n",
        "!pip install onnxruntime"
      ]
    },
    {
      "cell_type": "code",
      "execution_count": null,
      "metadata": {
        "colab": {
          "base_uri": "https://localhost:8080/"
        },
        "id": "fl0XJfMe6A28",
        "outputId": "a0cfad18-2ec8-45aa-c28a-f5057c59c48e"
      },
      "outputs": [
        {
          "name": "stdout",
          "output_type": "stream",
          "text": [
            "False\n"
          ]
        }
      ],
      "source": [
        "import torch\n",
        "import torch.nn as nn\n",
        "import time\n",
        "import torch.onnx\n",
        "\n",
        "import onnxruntime as ort\n",
        "import numpy as np\n",
        "\n",
        "print(torch.cuda.is_available())"
      ]
    },
    {
      "cell_type": "code",
      "execution_count": null,
      "metadata": {
        "colab": {
          "base_uri": "https://localhost:8080/"
        },
        "id": "0SV22EG3A5AG",
        "outputId": "2a254bb9-8ccd-459e-8c8c-9a9302e8246b"
      },
      "outputs": [
        {
          "name": "stdout",
          "output_type": "stream",
          "text": [
            "PyTorch Inference Output: [[ 0.9021714  -0.13473345  0.07176471  0.5230988 ]]\n"
          ]
        }
      ],
      "source": [
        "\n",
        "# Define a simple feedforward network\n",
        "class SimpleNet(nn.Module):\n",
        "    def __init__(self):\n",
        "        super(SimpleNet, self).__init__()\n",
        "        # Define layers\n",
        "        self.fc1 = nn.Linear(2, 2)  # Input to layer 1\n",
        "        self.fc2 = nn.Linear(2, 3)  # Layer 1 to layer 2\n",
        "        self.fc3 = nn.Linear(3, 4)  # Layer 2 to layer 3 (output)\n",
        "\n",
        "    def forward(self, x):\n",
        "        # Forward pass through the network\n",
        "        x = torch.sigmoid(self.fc1(x))\n",
        "        x = torch.sigmoid(self.fc2(x))\n",
        "        x = self.fc3(x)  # Output layer has no activation\n",
        "        return x\n",
        "\n",
        "# Instantiate the model\n",
        "model = SimpleNet()\n",
        "\n",
        "# Example input for inference\n",
        "example_input = torch.tensor([[1.0, 2.0]])\n",
        "\n",
        "# Perform inference\n",
        "output = model(example_input)\n",
        "\n",
        "# Print the inference output\n",
        "print(\"PyTorch Inference Output:\", output.detach().numpy())"
      ]
    },
    {
      "cell_type": "code",
      "execution_count": null,
      "metadata": {
        "colab": {
          "base_uri": "https://localhost:8080/"
        },
        "id": "DLyTbf_G6Gui",
        "outputId": "a4070102-eb1a-4cbe-a345-f8f45358c787"
      },
      "outputs": [
        {
          "name": "stdout",
          "output_type": "stream",
          "text": [
            "Model successfully converted to ONNX: simple_model.onnx\n"
          ]
        }
      ],
      "source": [
        "\n",
        "\n",
        "# Specify the path for the ONNX model file\n",
        "onnx_model_path = \"simple_model.onnx\"\n",
        "\n",
        "# Convert the PyTorch model to ONNX\n",
        "torch.onnx.export(\n",
        "    model,                          # model being exported\n",
        "    example_input,                  # model input (or a tuple for multiple inputs)\n",
        "    onnx_model_path,                # where to save the model (can be a file or file-like object)\n",
        "    input_names=[\"input\"],          # the model's input names\n",
        "    output_names=[\"output\"],        # the model's output names\n",
        ")\n",
        "\n",
        "print(f\"Model successfully converted to ONNX: {onnx_model_path}\")\n",
        "\n"
      ]
    },
    {
      "cell_type": "code",
      "execution_count": null,
      "metadata": {
        "colab": {
          "base_uri": "https://localhost:8080/"
        },
        "id": "KE0wjF5q6H0i",
        "outputId": "cddcc2c7-8994-48d6-f51d-c4415c3e9ddd"
      },
      "outputs": [
        {
          "name": "stdout",
          "output_type": "stream",
          "text": [
            "ONNX Inference Output: [array([[ 0.90217143, -0.13473347,  0.07176468,  0.5230988 ]],\n",
            "      dtype=float32)]\n"
          ]
        }
      ],
      "source": [
        "\n",
        "\n",
        "# Load the ONNX model\n",
        "onnx_model_path = \"simple_model.onnx\"\n",
        "ort_session = ort.InferenceSession(onnx_model_path)\n",
        "\n",
        "# Prepare sample input data (same shape as the PyTorch model)\n",
        "onnx_input = np.array([[1.0, 2.0]], dtype=np.float32)\n",
        "\n",
        "\n",
        "# Run inference on the ONNX model\n",
        "onnx_output = ort_session.run(None, {\"input\": onnx_input})\n",
        "\n",
        "# Print the ONNX inference result\n",
        "print(\"ONNX Inference Output:\", onnx_output)\n"
      ]
    },
    {
      "cell_type": "code",
      "execution_count": null,
      "metadata": {
        "colab": {
          "base_uri": "https://localhost:8080/"
        },
        "id": "T6JweTjU64dU",
        "outputId": "825fd6b6-f3c2-4706-f44e-6f1bbabd7838"
      },
      "outputs": [
        {
          "name": "stdout",
          "output_type": "stream",
          "text": [
            "Total time: 7.856535911560058e-05\n"
          ]
        }
      ],
      "source": [
        "time_sum = 0\n",
        "n_iters = 1000\n",
        "\n",
        "for i in range(n_iters):\n",
        "  example_input = torch.randn(1, 2)\n",
        "  t0 = time.time()\n",
        "  output = model(example_input)\n",
        "  time_sum+=(time.time() - t0)\n",
        "\n",
        "print(f\"Total time: {time_sum/n_iters}\")"
      ]
    },
    {
      "cell_type": "code",
      "execution_count": null,
      "metadata": {
        "colab": {
          "base_uri": "https://localhost:8080/"
        },
        "id": "JsFekGKb_wjh",
        "outputId": "8133bee2-5585-4199-bc72-96526d8d823d"
      },
      "outputs": [
        {
          "name": "stdout",
          "output_type": "stream",
          "text": [
            "Total time: 1.4373540878295898e-05\n"
          ]
        }
      ],
      "source": [
        "time_sum = 0\n",
        "n_iters = 1000\n",
        "onnx_model_path = \"simple_model.onnx\"\n",
        "ort_session = ort.InferenceSession(onnx_model_path)\n",
        "\n",
        "\n",
        "for i in range(n_iters):\n",
        "  onnx_input = np.random.rand(1, 2).astype(np.float32)\n",
        "  t0 = time.time()\n",
        "  onnx_output = ort_session.run(None, {\"input\": onnx_input})\n",
        "  time_sum+=(time.time() - t0)\n",
        "\n",
        "print(f\"Total time: {time_sum/n_iters}\")"
      ]
    },
    {
      "cell_type": "code",
      "execution_count": null,
      "metadata": {
        "id": "Q8KpKw1QAcTS"
      },
      "outputs": [],
      "source": []
    },
    {
      "cell_type": "code",
      "execution_count": null,
      "metadata": {
        "id": "7vSpKZ_oAmRU"
      },
      "outputs": [],
      "source": []
    }
  ],
  "metadata": {
    "colab": {
      "provenance": []
    },
    "kernelspec": {
      "display_name": "venv",
      "language": "python",
      "name": "python3"
    },
    "language_info": {
      "name": "python",
      "version": "3.13.3"
    }
  },
  "nbformat": 4,
  "nbformat_minor": 0
}
